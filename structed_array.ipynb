{
  "nbformat": 4,
  "nbformat_minor": 0,
  "metadata": {
    "colab": {
      "provenance": [],
      "authorship_tag": "ABX9TyPgp7v9k5cA+KcWd/gxjeiI",
      "include_colab_link": true
    },
    "kernelspec": {
      "name": "python3",
      "display_name": "Python 3"
    },
    "language_info": {
      "name": "python"
    }
  },
  "cells": [
    {
      "cell_type": "markdown",
      "metadata": {
        "id": "view-in-github",
        "colab_type": "text"
      },
      "source": [
        "<a href=\"https://colab.research.google.com/github/paveena703/structure-array/blob/main/structed_array.ipynb\" target=\"_parent\"><img src=\"https://colab.research.google.com/assets/colab-badge.svg\" alt=\"Open In Colab\"/></a>"
      ]
    },
    {
      "cell_type": "code",
      "execution_count": null,
      "metadata": {
        "colab": {
          "base_uri": "https://localhost:8080/"
        },
        "id": "rNeLsBWVch21",
        "outputId": "bb3edba3-f4a2-4557-9e6a-6fd210a3bb94"
      },
      "outputs": [
        {
          "output_type": "stream",
          "name": "stdout",
          "text": [
            "Creating Simple Array\n"
          ]
        }
      ],
      "source": [
        "import numpy as np\n",
        "print('Creating Simple Array')\n",
        "trainname = ['Rock Fort SF Express', 'Uzhavan Express', 'TEJAS','EXPRESS', 'Pothigai SF Express']\n",
        "trainnumber = [12654, 16866, 22672, 12662]"
      ]
    },
    {
      "cell_type": "code",
      "source": [
        "route =['Trichy to Chennai','Thanjavur to Chennai','Madurai to Chennai', 'Sengottai to Chennai']\n",
        "distance = [337.0, 351, 497.0, 670.0]\n",
        "print('Train Name :',trainname,'\\n Train Number:',trainnumber,'\\n Train Route :',route,'\\n Distance:',distance)"
      ],
      "metadata": {
        "colab": {
          "base_uri": "https://localhost:8080/"
        },
        "id": "KlSHrziIdGMJ",
        "outputId": "f1ac3117-5b18-4e13-deb4-efd5baa0cece"
      },
      "execution_count": null,
      "outputs": [
        {
          "output_type": "stream",
          "name": "stdout",
          "text": [
            "Train Name : ['Rock Fort SF Express', 'Uzhavan Express', 'TEJASEXPRESS', 'Pothigai SF Express'] \n",
            " Train Number: [12654, 16866, 22672, 12662] \n",
            " Train Route : ['Trichy to Chennai', 'Thanjavur to Chennai', 'Madurai to Chennai', 'Sengottai to Chennai'] \n",
            " Distance: [337.0, 351, 497.0, 670.0]\n"
          ]
        }
      ]
    },
    {
      "cell_type": "code",
      "source": [
        "print('Creating Structured Array')\n",
        "data = np.zeros(4, dtype={'names':('trainname', 'trainnumber',\n",
        "'route','distance'),\n",
        "'formats':('U10', 'i4', 'U10','f8')})"
      ],
      "metadata": {
        "colab": {
          "base_uri": "https://localhost:8080/"
        },
        "id": "rQ9EAIV4dYQo",
        "outputId": "3962aeb7-296c-43fb-f531-0d7e89c95885"
      },
      "execution_count": null,
      "outputs": [
        {
          "output_type": "stream",
          "name": "stdout",
          "text": [
            "Creating Structured Array\n"
          ]
        }
      ]
    },
    {
      "cell_type": "code",
      "source": [
        "print('Train Database Data Type',data.dtype)\n",
        "data['trainname'] = trainname\n",
        "data['trainnumber'] = trainnumber\n",
        "data['route'] = route\n",
        "data['distance']=distance"
      ],
      "metadata": {
        "colab": {
          "base_uri": "https://localhost:8080/"
        },
        "id": "_9FRvgVXddV4",
        "outputId": "9a88b43c-abd0-406e-d7ba-fee8e47dc1fb"
      },
      "execution_count": null,
      "outputs": [
        {
          "output_type": "stream",
          "name": "stdout",
          "text": [
            "Train Database Data Type [('trainname', '<U10'), ('trainnumber', '<i4'), ('route', '<U10'), ('distance', '<f8')]\n"
          ]
        }
      ]
    },
    {
      "cell_type": "code",
      "source": [
        "print('Prinitng Data',data)\n",
        "print('Working in Structured Arrays')\n",
        "print('Train Names :',data['trainname'])\n",
        "print('Printing First Data :',data[0])"
      ],
      "metadata": {
        "colab": {
          "base_uri": "https://localhost:8080/"
        },
        "id": "b1sc5CSldhsQ",
        "outputId": "cda4cf20-5088-481d-cd92-1c334e229dbf"
      },
      "execution_count": null,
      "outputs": [
        {
          "output_type": "stream",
          "name": "stdout",
          "text": [
            "Prinitng Data [('Rock Fort ', 12654, 'Trichy to ', 337.)\n",
            " ('Uzhavan Ex', 16866, 'Thanjavur ', 351.)\n",
            " ('TEJASEXPRE', 22672, 'Madurai to', 497.)\n",
            " ('Pothigai S', 12662, 'Sengottai ', 670.)]\n",
            "Working in Structured Arrays\n",
            "Train Names : ['Rock Fort ' 'Uzhavan Ex' 'TEJASEXPRE' 'Pothigai S']\n",
            "Printing First Data : ('Rock Fort ', 12654, 'Trichy to ', 337.0)\n"
          ]
        }
      ]
    },
    {
      "cell_type": "code",
      "source": [
        "print('Printing Train List Less than 400 KM Distance:\\n',data[data['distance'] < 400])\n",
        "tp = np.dtype([('id', 'i8'), ('mat', 'f8', (3, 3))])\n",
        "X = np.zeros(1, dtype=tp)\n",
        "print(X[0])\n",
        "print(X['mat'][0])"
      ],
      "metadata": {
        "colab": {
          "base_uri": "https://localhost:8080/"
        },
        "id": "J_v0Sid7dmvo",
        "outputId": "be60f52f-5a88-4a1b-a3ed-f593f09906c6"
      },
      "execution_count": null,
      "outputs": [
        {
          "output_type": "stream",
          "name": "stdout",
          "text": [
            "Printing Train List Less than 400 KM Distance:\n",
            " [('Rock Fort ', 12654, 'Trichy to ', 337.)\n",
            " ('Uzhavan Ex', 16866, 'Thanjavur ', 351.)]\n",
            "(0, [[0.0, 0.0, 0.0], [0.0, 0.0, 0.0], [0.0, 0.0, 0.0]])\n",
            "[[0. 0. 0.]\n",
            " [0. 0. 0.]\n",
            " [0. 0. 0.]]\n"
          ]
        }
      ]
    }
  ]
}